{
 "cells": [
  {
   "cell_type": "code",
   "execution_count": 1,
   "metadata": {
    "collapsed": true
   },
   "outputs": [],
   "source": [
    "from sparse_experiments.datasets import covertype, rlc, adult, le1, le2, neuron, ringnorm, checker, bow1, bow2\n",
    "from sparsecomputation import SparseComputation, SparseShiftedComputation, SparseHybridComputation, ApproximatePCA\n",
    "import json\n",
    "import numpy as np\n",
    "import os"
   ]
  },
  {
   "cell_type": "code",
   "execution_count": 2,
   "metadata": {
    "collapsed": true
   },
   "outputs": [],
   "source": [
    "def figsize(scale, ratio=1.0):\n",
    "    fig_width_pt = 505.89                          # Get this from LaTeX using \\the\\textwidth\n",
    "    inches_per_pt = 1.0/72.27                       # Convert pt to inch\n",
    "    golden_mean = (np.sqrt(5.0)-1.0)/2.0 * ratio         # Aesthetic ratio (you could change this)\n",
    "    fig_width = fig_width_pt*inches_per_pt*scale    # width in inches\n",
    "    fig_height = fig_width*golden_mean              # height in inches\n",
    "    fig_size = [fig_width,fig_height]\n",
    "    return fig_size\n",
    "\n",
    "def savefig(filename, **kwargs):\n",
    "    plt.savefig('{}.pgf'.format(filename), **kwargs)\n",
    "    plt.savefig('{}.pdf'.format(filename), **kwargs)"
   ]
  },
  {
   "cell_type": "code",
   "execution_count": 3,
   "metadata": {
    "collapsed": true
   },
   "outputs": [],
   "source": [
    "import matplotlib as mpl\n",
    "mpl.use('pgf')\n",
    "\n",
    "pgf_with_latex = {                      # setup matplotlib to use latex for output\n",
    "    \"pgf.texsystem\": \"pdflatex\",        # change this if using xetex or lautex\n",
    "    \"text.usetex\": True,                # use LaTeX to write all text\n",
    "    \"font.family\": \"serif\",\n",
    "    \"font.serif\": [],                   # blank entries should cause plots to inherit fonts from the document\n",
    "    \"font.sans-serif\": [],\n",
    "    \"font.monospace\": [],\n",
    "    \"axes.labelsize\": 10,               # LaTeX default is 10pt font.\n",
    "    \"font.size\": 8,\n",
    "    \"axes.titlesize\": 10,\n",
    "    \"figure.titlesize\": 10,\n",
    "    \"legend.fontsize\": 8,               # Make the legend/label fonts a little smaller\n",
    "    \"xtick.labelsize\": 8,\n",
    "    \"ytick.labelsize\": 8,\n",
    "    \"figure.figsize\": figsize(1.0),     # default fig size of 0.9 textwidth\n",
    "    \"pgf.preamble\": [\n",
    "        r\"\\usepackage[utf8x]{inputenc}\",    # use utf8 fonts becasue your computer can handle it :)\n",
    "        r\"\\usepackage[T1]{fontenc}\", # plots will be generated using this preamble\n",
    "        ]\n",
    "    }\n",
    "mpl.rcParams.update(pgf_with_latex)\n",
    "\n",
    "import matplotlib.pyplot as plt\n",
    "    \n",
    "% matplotlib inline"
   ]
  },
  {
   "cell_type": "code",
   "execution_count": 4,
   "metadata": {
    "collapsed": true
   },
   "outputs": [],
   "source": [
    "def serialize(x):\n",
    "    return x.__name__.split('.')[-1]"
   ]
  },
  {
   "cell_type": "code",
   "execution_count": 5,
   "metadata": {
    "collapsed": true
   },
   "outputs": [],
   "source": [
    "results_file = '../results/170810-results.json'"
   ]
  },
  {
   "cell_type": "code",
   "execution_count": 6,
   "metadata": {
    "collapsed": true
   },
   "outputs": [],
   "source": [
    "with open(results_file) as f:\n",
    "    results = json.load(f)"
   ]
  },
  {
   "cell_type": "code",
   "execution_count": 7,
   "metadata": {
    "collapsed": true
   },
   "outputs": [],
   "source": [
    "datasets = [neuron, le1, bow1, adult, covertype, checker, rlc, bow2, ringnorm]\n",
    "sparsifiers = [SparseComputation, SparseShiftedComputation, SparseHybridComputation]\n",
    "stats = [\n",
    "    'pairs',\n",
    "    'time',\n",
    "    'num_nonempty_neighbors',\n",
    "    'num_boxes',\n",
    "    'num_neighbors',\n",
    "    'num_empty_neighbors',\n",
    "    'num_duplicate_pairs',\n",
    "]"
   ]
  },
  {
   "cell_type": "code",
   "execution_count": 55,
   "metadata": {},
   "outputs": [],
   "source": [
    "ylabel = {\n",
    "    'pairs': 'Number of pairs',\n",
    "    'time': 'Running time (s)',\n",
    "    'num_nonempty_neighbors': 'Number of non-empty box pairs',\n",
    "    'num_boxes': 'Number of boxes in grid',\n",
    "    'num_neighbors': 'Number of box pairs',\n",
    "    'num_empty_neighbors': 'Number of empty neighboring boxes checked',\n",
    "    'num_duplicate_pairs': '\\# of duplicate pairs',\n",
    "}\n",
    "\n",
    "ylog = {\n",
    "    'pairs': True,\n",
    "    'time': True,\n",
    "    'num_nonempty_neighbors': True,\n",
    "    'num_boxes': True,\n",
    "    'num_neighbors': True,\n",
    "    'num_empty_neighbors': True,\n",
    "    'num_duplicate_pairs': True,\n",
    "}\n",
    "\n",
    "lowdim = {\n",
    "    'neuron': 3,\n",
    "    'le1': 3,\n",
    "    'bow1': 3,\n",
    "    'adult': 3,\n",
    "    'covertype': 3,\n",
    "    'checker': 2,\n",
    "    'rlc': 3,\n",
    "    'bow2': 3,\n",
    "    'ringnorm': 3,\n",
    "}\n",
    "\n",
    "name = {\n",
    "    'neuron': 'NEU',\n",
    "    'le1': 'LER',\n",
    "    'bow1': 'BOW1',\n",
    "    'adult': 'ADU',\n",
    "    'covertype': 'COV',\n",
    "    'checker': 'CKR',\n",
    "    'rlc': 'RLC',\n",
    "    'bow2': 'BOW2',\n",
    "    'ringnorm': 'RNG'\n",
    "}\n",
    "\n",
    "colors = {\n",
    "    'SparseComputation': 'C0',\n",
    "    'SparseShiftedComputation': 'C1', \n",
    "    'SparseHybridComputation': 'C2' \n",
    "}\n",
    "\n",
    "alg_names = {\n",
    "    'SparseComputation': 'Block enumeration',\n",
    "    'SparseHybridComputation': 'Block shifting',\n",
    "    'SparseShiftedComputation': 'Object shifting',\n",
    "}"
   ]
  },
  {
   "cell_type": "code",
   "execution_count": 9,
   "metadata": {
    "collapsed": true
   },
   "outputs": [],
   "source": [
    "def plot_dataset(dataset_dict, name):\n",
    "    figures = {}\n",
    "    for stat in stats:\n",
    "        f = plt.figure()\n",
    "        for sparsifier in sparsifiers:\n",
    "            gridRes = map(lambda x: int(x), [x for x in dataset_dict[serialize(sparsifier)].keys() if dataset_dict[serialize(sparsifier)][x]['status'] == 'successful'])\n",
    "            gridRes.sort()\n",
    "            if stat in dataset_dict[serialize(sparsifier)][str(gridRes[0])]:\n",
    "                plt.errorbar(gridRes, [np.mean(dataset_dict[serialize(sparsifier)][str(x)][stat]) for x in gridRes], yerr=[np.std(dataset_dict[serialize(sparsifier)][str(x)][stat]) for x in gridRes], label=serialize(sparsifier), capsize=5)\n",
    "        plt.ylabel(ylabel[stat])\n",
    "        plt.title(name)\n",
    "        plt.xlabel('Grid resolution - $k$')\n",
    "        plt.legend(loc=7)\n",
    "        if ylog[stat]:\n",
    "            plt.yscale('log')\n",
    "        figures[stat] = f\n",
    "        plt.savefig('../plots/%s-%s.png' % (stat, name))\n",
    "        plt.close(f)"
   ]
  },
  {
   "cell_type": "code",
   "execution_count": 19,
   "metadata": {
    "scrolled": true
   },
   "outputs": [
    {
     "ename": "NameError",
     "evalue": "name 'plot_dataset' is not defined",
     "output_type": "error",
     "traceback": [
      "\u001b[0;31m---------------------------------------------------------------------------\u001b[0m",
      "\u001b[0;31mNameError\u001b[0m                                 Traceback (most recent call last)",
      "\u001b[0;32m<ipython-input-19-c962de39282a>\u001b[0m in \u001b[0;36m<module>\u001b[0;34m()\u001b[0m\n\u001b[1;32m      1\u001b[0m \u001b[0;32mfor\u001b[0m \u001b[0mdataset\u001b[0m \u001b[0;32min\u001b[0m \u001b[0mdatasets\u001b[0m\u001b[0;34m:\u001b[0m\u001b[0;34m\u001b[0m\u001b[0m\n\u001b[0;32m----> 2\u001b[0;31m     \u001b[0mplot_dataset\u001b[0m\u001b[0;34m(\u001b[0m\u001b[0mresults\u001b[0m\u001b[0;34m[\u001b[0m\u001b[0mserialize\u001b[0m\u001b[0;34m(\u001b[0m\u001b[0mdataset\u001b[0m\u001b[0;34m)\u001b[0m\u001b[0;34m]\u001b[0m\u001b[0;34m,\u001b[0m \u001b[0mserialize\u001b[0m\u001b[0;34m(\u001b[0m\u001b[0mdataset\u001b[0m\u001b[0;34m)\u001b[0m\u001b[0;34m)\u001b[0m\u001b[0;34m\u001b[0m\u001b[0m\n\u001b[0m",
      "\u001b[0;31mNameError\u001b[0m: name 'plot_dataset' is not defined"
     ]
    }
   ],
   "source": [
    "for dataset in datasets:\n",
    "    plot_dataset(results[serialize(dataset)], serialize(dataset))"
   ]
  },
  {
   "cell_type": "code",
   "execution_count": 107,
   "metadata": {
    "collapsed": true
   },
   "outputs": [],
   "source": [
    "def plot_stat(data, stat):\n",
    "    fig, ax  = plt.subplots(nrows=3, ncols=3, figsize=figsize(1.0, ratio=1.1))\n",
    "    fig.subplots_adjust(bottom=0.10, left=0.10)\n",
    "    for i, dataset in enumerate(datasets):\n",
    "        ax = plt.subplot(3, 3, i + 1)\n",
    "        dataset_dict = data[serialize(dataset)]\n",
    "        legend_count = 0\n",
    "        max_score = - float('inf')\n",
    "        min_score = float('inf')\n",
    "        for sparsifier in sparsifiers:\n",
    "            gridRes = map(lambda x: int(x), [x for x in dataset_dict[serialize(sparsifier)].keys() if dataset_dict[serialize(sparsifier)][x]['status'] == 'successful'])\n",
    "            gridRes.sort()\n",
    "            \n",
    "            if stat in dataset_dict[serialize(sparsifier)][str(gridRes[0])]:\n",
    "                legend_count += 1\n",
    "                \n",
    "                mean_scores = [np.mean(dataset_dict[serialize(sparsifier)][str(x)][stat]) for x in gridRes]\n",
    "                std_scores = [np.std(dataset_dict[serialize(sparsifier)][str(x)][stat]) for x in gridRes]\n",
    "            \n",
    "                plt.errorbar(map(lambda x: x * 2,gridRes), mean_scores, yerr=std_scores, label=alg_names[serialize(sparsifier)], capsize=1, c=colors[serialize(sparsifier)], linewidth=0.825)\n",
    "        if i % 3 == 0:\n",
    "            plt.ylabel(ylabel[stat])\n",
    "            ax.get_yaxis().set_label_coords(-0.25,0.5)\n",
    "        plt.title('%s' % name[serialize(dataset)])\n",
    "        if i >= 6:\n",
    "            plt.xlabel('Grid resolution - $k$')\n",
    "        if ylog[stat]:\n",
    "            plt.yscale('log')\n",
    "        if serialize(dataset) == 'rlc' and stat == 'time':\n",
    "            ax.set_yticks([10 ** 3, 10 ** 2])\n",
    "        \n",
    "    plt.subplot(3, 3, 8)\n",
    "    lgd = plt.legend(bbox_to_anchor=(- 1.2 * legend_count / 3.0 + 0.5, -0.8, 2.4 * legend_count / 3.0, .35), loc=8,\n",
    "       ncol=legend_count, mode=\"expand\", borderaxespad=0.)\n",
    "    plt.tight_layout()\n",
    "    savefig('../plots/%s' % stat, bbox_extra_artists=(lgd,), bbox_inches='tight')"
   ]
  },
  {
   "cell_type": "code",
   "execution_count": null,
   "metadata": {
    "scrolled": false
   },
   "outputs": [],
   "source": [
    "for stat in stats:\n",
    "    plot_stat(results, stat)"
   ]
  },
  {
   "cell_type": "markdown",
   "metadata": {},
   "source": [
    "# Cov plot dimension"
   ]
  },
  {
   "cell_type": "code",
   "execution_count": 18,
   "metadata": {
    "collapsed": true
   },
   "outputs": [],
   "source": [
    "cov_results_file = '../results/170814-results.json'"
   ]
  },
  {
   "cell_type": "code",
   "execution_count": 19,
   "metadata": {
    "collapsed": true
   },
   "outputs": [],
   "source": [
    "with open(cov_results_file) as f:\n",
    "    cov_results = json.load(f)"
   ]
  },
  {
   "cell_type": "code",
   "execution_count": 87,
   "metadata": {},
   "outputs": [
    {
     "data": {
      "image/png": "[encoded data removed]",
      "text/plain": [
       "<matplotlib.figure.Figure at 0x7f019a3fd050>"
      ]
     },
     "metadata": {},
     "output_type": "display_data"
    }
   ],
   "source": [
    "stat = 'time'\n",
    "fig, ax  = plt.subplots(nrows=1, ncols=3, figsize=figsize(1.0, ratio=.4))\n",
    "fig.subplots_adjust(bottom=0.10, left=0.10)\n",
    "for i in [2, 3, 4]:\n",
    "    ax = plt.subplot(1, 3, i -1)\n",
    "    dataset_dict = cov_results['covertype']\n",
    "    for sparsifier in sparsifiers:\n",
    "        gridRes = map(lambda x: int(x), [x for x in dataset_dict[serialize(sparsifier)].keys() if dataset_dict[serialize(sparsifier)][x][str(i)]['status'] == 'successful'])\n",
    "        gridRes.sort()\n",
    "        if stat in dataset_dict[serialize(sparsifier)][str(gridRes[0])][str(i)]:\n",
    "            plt.errorbar(gridRes, [np.mean(dataset_dict[serialize(sparsifier)][str(x)][str(i)][stat]) for x in gridRes], yerr=[np.std(dataset_dict[serialize(sparsifier)][str(x)][str(i)][stat]) for x in gridRes], label=alg_names[serialize(sparsifier)], capsize=1, linewidth=0.85)\n",
    "    if i == 2:\n",
    "        plt.ylabel(ylabel[stat])\n",
    "    plt.title('$p = %d$' % i)\n",
    "    plt.xlabel('Grid resolution - $k$')\n",
    "    if ylog[stat]:\n",
    "        plt.yscale('log')\n",
    "    ax.set_ylim([2, 1050])\n",
    "plt.subplot(1, 3, 2)\n",
    "lgd = plt.legend(bbox_to_anchor=(-0.7, -0.75, 2.4, .35), loc=8,\n",
    "   ncol=3, mode=\"expand\", borderaxespad=0.)\n",
    "plt.tight_layout()\n",
    "savefig('../plots/covtype_time', bbox_extra_artists=(lgd,), bbox_inches='tight')"
   ]
  },
  {
   "cell_type": "code",
   "execution_count": null,
   "metadata": {
    "collapsed": true
   },
   "outputs": [],
   "source": []
  }
 ],
 "metadata": {
  "kernelspec": {
   "display_name": "Python 2",
   "language": "python",
   "name": "python2"
  },
  "language_info": {
   "codemirror_mode": {
    "name": "ipython",
    "version": 2
   },
   "file_extension": ".py",
   "mimetype": "text/x-python",
   "name": "python",
   "nbconvert_exporter": "python",
   "pygments_lexer": "ipython2",
   "version": "2.7.12"
  }
 },
 "nbformat": 4,
 "nbformat_minor": 2
}
